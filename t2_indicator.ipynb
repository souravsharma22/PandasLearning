{
 "cells": [
  {
   "cell_type": "code",
   "execution_count": 2,
   "metadata": {},
   "outputs": [
    {
     "name": "stdout",
     "output_type": "stream",
     "text": [
      "      Unnamed: 0  age     sex     bmi  children smoker     region      charges\n",
      "0              0   19  female  27.900         0    yes  southwest  16884.92400\n",
      "1              1   18    male  33.770         1     no  southeast   1725.55230\n",
      "2              2   28    male  33.000         3     no  southeast   4449.46200\n",
      "3              3   33    male  22.705         0     no  northwest  21984.47061\n",
      "4              4   32    male  28.880         0     no  northwest   3866.85520\n",
      "...          ...  ...     ...     ...       ...    ...        ...          ...\n",
      "1333        1333   50    male  30.970         3     no  northwest  10600.54830\n",
      "1334        1334   18  female  31.920         0     no  northeast   2205.98080\n",
      "1335        1335   18  female  36.850         0     no  southeast   1629.83350\n",
      "1336        1336   21  female  25.800         0     no  southwest   2007.94500\n",
      "1337        1337   61  female  29.070         0    yes  northwest  29141.36030\n",
      "\n",
      "[1338 rows x 8 columns]\n"
     ]
    }
   ],
   "source": [
    "import pandas as pd\n",
    "import statsmodels.formula.api as sm\n",
    "\n",
    "med_report = pd.read_csv(\"C:\\ML\\Pandas\\insurance_data.csv\")\n",
    "print(med_report)\n"
   ]
  },
  {
   "cell_type": "code",
   "execution_count": 3,
   "metadata": {},
   "outputs": [
    {
     "name": "stdout",
     "output_type": "stream",
     "text": [
      "      Unnamed: 0  age  ... region_southeast  region_southwest\n",
      "0              0   19  ...            False              True\n",
      "1              1   18  ...             True             False\n",
      "2              2   28  ...             True             False\n",
      "3              3   33  ...            False             False\n",
      "4              4   32  ...            False             False\n",
      "...          ...  ...  ...              ...               ...\n",
      "1333        1333   50  ...            False             False\n",
      "1334        1334   18  ...            False             False\n",
      "1335        1335   18  ...             True             False\n",
      "1336        1336   21  ...            False              True\n",
      "1337        1337   61  ...            False             False\n",
      "\n",
      "[1338 rows x 11 columns]\n"
     ]
    }
   ],
   "source": [
    "med_report2= pd.get_dummies(med_report,columns=[\"region\"],dtype=bool)\n",
    "print(med_report2)"
   ]
  },
  {
   "cell_type": "code",
   "execution_count": 4,
   "metadata": {},
   "outputs": [
    {
     "name": "stdout",
     "output_type": "stream",
     "text": [
      "      Unnamed: 0  age  ... region_southeast  region_southwest\n",
      "0              0   19  ...                0                 1\n",
      "1              1   18  ...                1                 0\n",
      "2              2   28  ...                1                 0\n",
      "3              3   33  ...                0                 0\n",
      "4              4   32  ...                0                 0\n",
      "...          ...  ...  ...              ...               ...\n",
      "1333        1333   50  ...                0                 0\n",
      "1334        1334   18  ...                0                 0\n",
      "1335        1335   18  ...                1                 0\n",
      "1336        1336   21  ...                0                 1\n",
      "1337        1337   61  ...                0                 0\n",
      "\n",
      "[1338 rows x 11 columns]\n"
     ]
    }
   ],
   "source": [
    "med_report3= pd.get_dummies(med_report,columns=[\"region\"],dtype=int)\n",
    "print(med_report3)"
   ]
  },
  {
   "cell_type": "code",
   "execution_count": 7,
   "metadata": {},
   "outputs": [
    {
     "name": "stdout",
     "output_type": "stream",
     "text": [
      "Intercept           10581.261741\n",
      "region_northeast     2825.122775\n",
      "region_northwest     1836.313633\n",
      "region_southeast     4154.149697\n",
      "region_southwest     1765.675636\n",
      "dtype: float64\n",
      "                            OLS Regression Results                            \n",
      "==============================================================================\n",
      "Dep. Variable:                charges   R-squared:                       0.007\n",
      "Model:                            OLS   Adj. R-squared:                  0.004\n",
      "Method:                 Least Squares   F-statistic:                     2.970\n",
      "Date:                Tue, 25 Jun 2024   Prob (F-statistic):             0.0309\n",
      "Time:                        18:07:57   Log-Likelihood:                -14473.\n",
      "No. Observations:                1338   AIC:                         2.895e+04\n",
      "Df Residuals:                    1334   BIC:                         2.898e+04\n",
      "Df Model:                           3                                         \n",
      "Covariance Type:            nonrobust                                         \n",
      "====================================================================================\n",
      "                       coef    std err          t      P>|t|      [0.025      0.975]\n",
      "------------------------------------------------------------------------------------\n",
      "Intercept         1.058e+04    264.595     39.990      0.000    1.01e+04    1.11e+04\n",
      "region_northeast  2825.1228    583.433      4.842      0.000    1680.577    3969.669\n",
      "region_northwest  1836.3136    582.720      3.151      0.002     693.167    2979.460\n",
      "region_southeast  4154.1497    557.388      7.453      0.000    3060.697    5247.602\n",
      "region_southwest  1765.6756    582.720      3.030      0.002     622.529    2908.822\n",
      "==============================================================================\n",
      "Omnibus:                      327.391   Durbin-Watson:                   2.001\n",
      "Prob(Omnibus):                  0.000   Jarque-Bera (JB):              623.271\n",
      "Skew:                           1.484   Prob(JB):                    4.55e-136\n",
      "Kurtosis:                       4.541   Cond. No.                     2.51e+15\n",
      "==============================================================================\n",
      "\n",
      "Notes:\n",
      "[1] Standard Errors assume that the covariance matrix of the errors is correctly specified.\n",
      "[2] The smallest eigenvalue is 2.65e-28. This might indicate that there are\n",
      "strong multicollinearity problems or that the design matrix is singular.\n"
     ]
    }
   ],
   "source": [
    "regr_model = sm.ols(formula=\"charges ~ region_northeast + region_northwest +  region_southeast + region_southwest\",data=med_report3).fit()\n",
    "print(regr_model.params)\n",
    "print(regr_model.summary())"
   ]
  },
  {
   "cell_type": "code",
   "execution_count": 8,
   "metadata": {},
   "outputs": [
    {
     "name": "stdout",
     "output_type": "stream",
     "text": [
      "Intercept           25395.919994\n",
      "region_northeast     4277.616478\n",
      "region_northwest     4796.083188\n",
      "region_southeast     9449.076829\n",
      "region_southwest     6873.143499\n",
      "dtype: float64\n",
      "                            OLS Regression Results                            \n",
      "==============================================================================\n",
      "Dep. Variable:                charges   R-squared:                       0.036\n",
      "Model:                            OLS   Adj. R-squared:                  0.025\n",
      "Method:                 Least Squares   F-statistic:                     3.316\n",
      "Date:                Tue, 25 Jun 2024   Prob (F-statistic):             0.0205\n",
      "Time:                        18:24:19   Log-Likelihood:                -2946.2\n",
      "No. Observations:                 274   AIC:                             5900.\n",
      "Df Residuals:                     270   BIC:                             5915.\n",
      "Df Model:                           3                                         \n",
      "Covariance Type:            nonrobust                                         \n",
      "====================================================================================\n",
      "                       coef    std err          t      P>|t|      [0.025      0.975]\n",
      "------------------------------------------------------------------------------------\n",
      "Intercept          2.54e+04    560.202     45.334      0.000    2.43e+04    2.65e+04\n",
      "region_northeast  4277.6165   1215.368      3.520      0.001    1884.813    6670.420\n",
      "region_northwest  4796.0832   1287.490      3.725      0.000    2261.286    7330.880\n",
      "region_southeast  9449.0768   1081.812      8.734      0.000    7319.217    1.16e+04\n",
      "region_southwest  6873.1435   1287.490      5.338      0.000    4338.347    9407.940\n",
      "==============================================================================\n",
      "Omnibus:                       41.132   Durbin-Watson:                   1.755\n",
      "Prob(Omnibus):                  0.000   Jarque-Bera (JB):               11.294\n",
      "Skew:                           0.141   Prob(JB):                      0.00353\n",
      "Kurtosis:                       2.046   Cond. No.                     3.66e+16\n",
      "==============================================================================\n",
      "\n",
      "Notes:\n",
      "[1] Standard Errors assume that the covariance matrix of the errors is correctly specified.\n",
      "[2] The smallest eigenvalue is 2.58e-31. This might indicate that there are\n",
      "strong multicollinearity problems or that the design matrix is singular.\n"
     ]
    }
   ],
   "source": [
    "med_report4 = med_report3.loc[med_report3[\"smoker\"]== \"yes\"]\n",
    "regr_model2 = sm.ols(formula=\"charges ~ region_northeast + region_northwest +  region_southeast + region_southwest\",data=med_report4).fit()\n",
    "print(regr_model2.params)\n",
    "print(regr_model2.summary())"
   ]
  },
  {
   "cell_type": "code",
   "execution_count": 9,
   "metadata": {},
   "outputs": [
    {
     "name": "stdout",
     "output_type": "stream",
     "text": [
      "Intercept           6754.699242\n",
      "region_northeast    2410.832430\n",
      "region_northwest    1801.764473\n",
      "region_southeast    1277.517067\n",
      "region_southwest    1264.585271\n",
      "dtype: float64\n",
      "                            OLS Regression Results                            \n",
      "==============================================================================\n",
      "Dep. Variable:                charges   R-squared:                       0.006\n",
      "Model:                            OLS   Adj. R-squared:                  0.003\n",
      "Method:                 Least Squares   F-statistic:                     2.155\n",
      "Date:                Tue, 25 Jun 2024   Prob (F-statistic):             0.0917\n",
      "Time:                        18:28:54   Log-Likelihood:                -10761.\n",
      "No. Observations:                1064   AIC:                         2.153e+04\n",
      "Df Residuals:                    1060   BIC:                         2.155e+04\n",
      "Df Model:                           3                                         \n",
      "Covariance Type:            nonrobust                                         \n",
      "====================================================================================\n",
      "                       coef    std err          t      P>|t|      [0.025      0.975]\n",
      "------------------------------------------------------------------------------------\n",
      "Intercept         6754.6992    146.797     46.014      0.000    6466.654    7042.744\n",
      "region_northeast  2410.8324    324.267      7.435      0.000    1774.554    3047.111\n",
      "region_northwest  1801.7645    319.403      5.641      0.000    1175.031    2428.498\n",
      "region_southeast  1277.5171    316.622      4.035      0.000     656.240    1898.795\n",
      "region_southwest  1264.5853    319.403      3.959      0.000     637.852    1891.319\n",
      "==============================================================================\n",
      "Omnibus:                      317.847   Durbin-Watson:                   2.082\n",
      "Prob(Omnibus):                  0.000   Jarque-Bera (JB):              864.291\n",
      "Skew:                           1.538   Prob(JB):                    2.10e-188\n",
      "Kurtosis:                       6.167   Cond. No.                     2.34e+15\n",
      "==============================================================================\n",
      "\n",
      "Notes:\n",
      "[1] Standard Errors assume that the covariance matrix of the errors is correctly specified.\n",
      "[2] The smallest eigenvalue is 2.43e-28. This might indicate that there are\n",
      "strong multicollinearity problems or that the design matrix is singular.\n"
     ]
    }
   ],
   "source": [
    "med_report5 = med_report3.loc[med_report3[\"smoker\"]== \"no\"]\n",
    "regr_model3 = sm.ols(formula=\"charges ~ region_northeast + region_northwest +  region_southeast + region_southwest\",data=med_report5).fit()\n",
    "print(regr_model3.params)\n",
    "print(regr_model3.summary())"
   ]
  }
 ],
 "metadata": {
  "kernelspec": {
   "display_name": "base",
   "language": "python",
   "name": "python3"
  },
  "language_info": {
   "codemirror_mode": {
    "name": "ipython",
    "version": 3
   },
   "file_extension": ".py",
   "mimetype": "text/x-python",
   "name": "python",
   "nbconvert_exporter": "python",
   "pygments_lexer": "ipython3",
   "version": "3.11.7"
  }
 },
 "nbformat": 4,
 "nbformat_minor": 2
}
