{
 "cells": [
  {
   "cell_type": "code",
   "execution_count": 1,
   "metadata": {},
   "outputs": [
    {
     "name": "stdout",
     "output_type": "stream",
     "text": [
      "             Mercedes  Ford  Tata  Renault\n",
      "Sales_place                               \n",
      "One                 3     3     4       12\n",
      "Two                 6     4     6        1\n",
      "Three               5     2     5        0\n",
      "Four                3     1     7        0\n",
      "Five                2     3     6        3\n",
      "Six                 5     2     8        1\n"
     ]
    }
   ],
   "source": [
    "import pandas as pd\n",
    "cardata = {\"Mercedes\":[3,6,5,3,2,5],\"Ford\":[3,4,2,1,3,2],\"Tata\":[4,6,5,7,6,8],\"Renault\":[12,1,0,0,3,1]}\n",
    "carsales = pd.DataFrame(cardata)\n",
    "carsales.index.rename(\"Sales_place\",inplace=True)\n",
    "carsales.rename(index={0:\"One\",1:\"Two\",2:\"Three\",3:\"Four\",4:\"Five\",5:\"Six\"},inplace=True)\n",
    "print(carsales)"
   ]
  },
  {
   "cell_type": "code",
   "execution_count": 2,
   "metadata": {},
   "outputs": [
    {
     "name": "stdout",
     "output_type": "stream",
     "text": [
      "     Mercedes  Ford  Tata  Renault\n",
      "sum        24    15    36       17\n",
      "max         6     4     8       12\n",
      "min         2     1     4        0\n"
     ]
    }
   ],
   "source": [
    "print(carsales.agg([\"sum\",\"max\",\"min\"]))"
   ]
  },
  {
   "cell_type": "code",
   "execution_count": 3,
   "metadata": {},
   "outputs": [
    {
     "name": "stdout",
     "output_type": "stream",
     "text": [
      "         Ford\n",
      "sum        15\n",
      "Maximum     4\n",
      "Minimum     1\n"
     ]
    }
   ],
   "source": [
    "print(carsales.agg(sum=(\"Ford\",\"sum\"),Maximum=(\"Ford\",\"max\"),Minimum=(\"Ford\",\"min\")))"
   ]
  },
  {
   "cell_type": "code",
   "execution_count": 4,
   "metadata": {},
   "outputs": [
    {
     "name": "stdout",
     "output_type": "stream",
     "text": [
      "       Ford  Tata\n",
      "sum    15.0    36\n",
      "max     4.0     8\n",
      "min     1.0     4\n",
      "count   NaN     6\n"
     ]
    }
   ],
   "source": [
    "print(carsales.agg({\"Ford\":[\"sum\",\"max\",\"min\"],\"Tata\":[\"sum\",\"max\",\"min\",\"count\"]}))"
   ]
  },
  {
   "cell_type": "code",
   "execution_count": 5,
   "metadata": {},
   "outputs": [
    {
     "name": "stdout",
     "output_type": "stream",
     "text": [
      "Mercedes    24\n",
      "Tata        36\n",
      "Renault     17\n",
      "Ford        15\n",
      "dtype: int64\n"
     ]
    }
   ],
   "source": [
    "print(carsales[[\"Mercedes\",\"Tata\",\"Renault\",\"Ford\"]].agg(\"sum\"))"
   ]
  },
  {
   "cell_type": "code",
   "execution_count": 6,
   "metadata": {},
   "outputs": [
    {
     "name": "stdout",
     "output_type": "stream",
     "text": [
      "Sales_place\n",
      "One      5.50\n",
      "Two      4.25\n",
      "Three    3.00\n",
      "Four     2.75\n",
      "Five     3.50\n",
      "Six      4.00\n",
      "dtype: float64\n"
     ]
    }
   ],
   "source": [
    "print(carsales.agg(\"mean\",axis=\"columns\"))"
   ]
  },
  {
   "cell_type": "code",
   "execution_count": 7,
   "metadata": {},
   "outputs": [
    {
     "name": "stdout",
     "output_type": "stream",
     "text": [
      "       Mercedes      Ford      Tata    Renault\n",
      "count  6.000000  6.000000  6.000000   6.000000\n",
      "mean   4.000000  2.500000  6.000000   2.833333\n",
      "std    1.549193  1.048809  1.414214   4.622409\n",
      "min    2.000000  1.000000  4.000000   0.000000\n",
      "25%    3.000000  2.000000  5.250000   0.250000\n",
      "50%    4.000000  2.500000  6.000000   1.000000\n",
      "75%    5.000000  3.000000  6.750000   2.500000\n",
      "max    6.000000  4.000000  8.000000  12.000000\n"
     ]
    }
   ],
   "source": [
    "print(carsales.describe())"
   ]
  },
  {
   "cell_type": "code",
   "execution_count": 8,
   "metadata": {},
   "outputs": [
    {
     "name": "stdout",
     "output_type": "stream",
     "text": [
      "Tata\n",
      "6    2\n",
      "4    1\n",
      "5    1\n",
      "7    1\n",
      "8    1\n",
      "Name: count, dtype: int64\n"
     ]
    }
   ],
   "source": [
    "print(carsales[\"Tata\"].value_counts())"
   ]
  },
  {
   "cell_type": "code",
   "execution_count": 9,
   "metadata": {},
   "outputs": [
    {
     "name": "stdout",
     "output_type": "stream",
     "text": [
      "Tata\n",
      "6    0.333333\n",
      "4    0.166667\n",
      "5    0.166667\n",
      "7    0.166667\n",
      "8    0.166667\n",
      "Name: proportion, dtype: float64\n"
     ]
    }
   ],
   "source": [
    "print(carsales[\"Tata\"].value_counts(normalize=True))"
   ]
  },
  {
   "cell_type": "code",
   "execution_count": 10,
   "metadata": {},
   "outputs": [],
   "source": [
    "carsales[\"Total_sales\"]= carsales[carsales.columns].sum(axis=1)"
   ]
  },
  {
   "cell_type": "code",
   "execution_count": 11,
   "metadata": {},
   "outputs": [
    {
     "name": "stdout",
     "output_type": "stream",
     "text": [
      "             Mercedes  Ford  Tata  Renault  Total_sales\n",
      "Sales_place                                            \n",
      "One                 3     3     4       12           22\n",
      "Two                 6     4     6        1           17\n",
      "Three               5     2     5        0           12\n",
      "Four                3     1     7        0           11\n",
      "Five                2     3     6        3           14\n",
      "Six                 5     2     8        1           16\n"
     ]
    }
   ],
   "source": [
    "print(carsales)"
   ]
  },
  {
   "cell_type": "code",
   "execution_count": 12,
   "metadata": {},
   "outputs": [
    {
     "name": "stdout",
     "output_type": "stream",
     "text": [
      "             Mercedes  Ford  Tata  Renault  Total_sales Sales_Rating\n",
      "Sales_place                                                         \n",
      "One                 3     3     4       12           22    Excellent\n",
      "Two                 6     4     6        1           17    Excellent\n",
      "Three               5     2     5        0           12   Acceptable\n",
      "Four                3     1     7        0           11   Acceptable\n",
      "Five                2     3     6        3           14   Acceptable\n",
      "Six                 5     2     8        1           16    Excellent\n"
     ]
    }
   ],
   "source": [
    "def sales_rating(n_sold):\n",
    "    if(n_sold>=15):\n",
    "        return \"Excellent\"\n",
    "    elif n_sold>5:\n",
    "        return \"Acceptable\"\n",
    "    else:\n",
    "        return \"Bad\"\n",
    "    \n",
    "carsales[\"Sales_Rating\"]= carsales[\"Total_sales\"].apply(sales_rating)\n",
    "print(carsales)"
   ]
  },
  {
   "cell_type": "code",
   "execution_count": null,
   "metadata": {},
   "outputs": [],
   "source": []
  }
 ],
 "metadata": {
  "kernelspec": {
   "display_name": "base",
   "language": "python",
   "name": "python3"
  },
  "language_info": {
   "codemirror_mode": {
    "name": "ipython",
    "version": 3
   },
   "file_extension": ".py",
   "mimetype": "text/x-python",
   "name": "python",
   "nbconvert_exporter": "python",
   "pygments_lexer": "ipython3",
   "version": "3.11.7"
  }
 },
 "nbformat": 4,
 "nbformat_minor": 2
}
