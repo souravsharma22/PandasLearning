{
 "cells": [
  {
   "cell_type": "code",
   "execution_count": 2,
   "metadata": {},
   "outputs": [
    {
     "name": "stdout",
     "output_type": "stream",
     "text": [
      "             Mercedes  Ford  Tata  Renault\n",
      "Sales_place                               \n",
      "One                 3     3     4       12\n",
      "Two                 6     4     6        1\n",
      "Three               5     2     5        0\n",
      "Four                3     1     7        0\n",
      "Five                2     3     6        3\n",
      "Six                 5     2     8        1\n"
     ]
    }
   ],
   "source": [
    "import pandas as pd\n",
    "cardata = {\"Mercedes\":[3,6,5,3,2,5],\"Ford\":[3,4,2,1,3,2],\"Tata\":[4,6,5,7,6,8],\"Renault\":[12,1,0,0,3,1]}\n",
    "carsales = pd.DataFrame(cardata)\n",
    "carsales.index.rename(\"Sales_place\",inplace=True)\n",
    "carsales.rename(index={0:\"One\",1:\"Two\",2:\"Three\",3:\"Four\",4:\"Five\",5:\"Six\"},inplace=True)\n",
    "print(carsales)"
   ]
  },
  {
   "cell_type": "code",
   "execution_count": 3,
   "metadata": {},
   "outputs": [
    {
     "name": "stdout",
     "output_type": "stream",
     "text": [
      "             Mercedes  Ford  Tata  Renault\n",
      "Sales_place                               \n",
      "One                 3     3     4       12\n",
      "Three               5     2     5        0\n",
      "Two                 6     4     6        1\n",
      "Five                2     3     6        3\n",
      "Four                3     1     7        0\n",
      "Six                 5     2     8        1\n"
     ]
    }
   ],
   "source": [
    "print(carsales.sort_values(by=[\"Tata\"]))\n"
   ]
  },
  {
   "cell_type": "code",
   "execution_count": 4,
   "metadata": {},
   "outputs": [
    {
     "name": "stdout",
     "output_type": "stream",
     "text": [
      "             Mercedes  Ford  Tata  Renault\n",
      "Sales_place                               \n",
      "Two                 6     4     6        1\n",
      "One                 3     3     4       12\n",
      "Five                2     3     6        3\n",
      "Three               5     2     5        0\n",
      "Six                 5     2     8        1\n",
      "Four                3     1     7        0\n"
     ]
    }
   ],
   "source": [
    "print(carsales.sort_values(by=[\"Ford\"],ascending=False))\n"
   ]
  },
  {
   "cell_type": "code",
   "execution_count": 5,
   "metadata": {},
   "outputs": [
    {
     "name": "stdout",
     "output_type": "stream",
     "text": [
      "             Mercedes  Ford  Tata  Renault\n",
      "Sales_place                               \n",
      "Five                2     3     6        3\n",
      "Four                3     1     7        0\n",
      "One                 3     3     4       12\n",
      "Six                 5     2     8        1\n",
      "Three               5     2     5        0\n",
      "Two                 6     4     6        1\n"
     ]
    }
   ],
   "source": [
    "print(carsales.sort_index())"
   ]
  },
  {
   "cell_type": "code",
   "execution_count": 6,
   "metadata": {},
   "outputs": [
    {
     "name": "stdout",
     "output_type": "stream",
     "text": [
      "Mercedes    Two\n",
      "Ford        Two\n",
      "Tata        Six\n",
      "Renault     One\n",
      "dtype: object\n"
     ]
    }
   ],
   "source": [
    "print(carsales.idxmax())"
   ]
  },
  {
   "cell_type": "code",
   "execution_count": 7,
   "metadata": {},
   "outputs": [
    {
     "name": "stdout",
     "output_type": "stream",
     "text": [
      "Sales_place\n",
      "One       Renault\n",
      "Two      Mercedes\n",
      "Three    Mercedes\n",
      "Four         Tata\n",
      "Five         Tata\n",
      "Six          Tata\n",
      "dtype: object\n"
     ]
    }
   ],
   "source": [
    "print(carsales.idxmax(axis=\"columns\"))"
   ]
  },
  {
   "cell_type": "code",
   "execution_count": 8,
   "metadata": {},
   "outputs": [
    {
     "name": "stdout",
     "output_type": "stream",
     "text": [
      "Mercedes     Five\n",
      "Ford         Four\n",
      "Tata          One\n",
      "Renault     Three\n",
      "dtype: object\n",
      "Sales_place\n",
      "One      Mercedes\n",
      "Two       Renault\n",
      "Three     Renault\n",
      "Four      Renault\n",
      "Five     Mercedes\n",
      "Six       Renault\n",
      "dtype: object\n"
     ]
    }
   ],
   "source": [
    "print(carsales.idxmin())\n",
    "print(carsales.idxmin(axis=\"columns\"))"
   ]
  },
  {
   "cell_type": "code",
   "execution_count": 9,
   "metadata": {},
   "outputs": [
    {
     "name": "stdout",
     "output_type": "stream",
     "text": [
      "             Mercedes  Ford  Tata  Renault\n",
      "Sales_place                               \n",
      "Two                 6     4     6        1\n",
      "Three               5     2     5        0\n",
      "Six                 5     2     8        1\n"
     ]
    }
   ],
   "source": [
    "print(carsales.nlargest(3,\"Mercedes\",keep=\"all\"))"
   ]
  },
  {
   "cell_type": "code",
   "execution_count": 10,
   "metadata": {},
   "outputs": [
    {
     "name": "stdout",
     "output_type": "stream",
     "text": [
      "             Mercedes  Ford  Tata  Renault\n",
      "Sales_place                               \n",
      "One                 3     3     4       12\n",
      "Three               5     2     5        0\n",
      "Two                 6     4     6        1\n",
      "Five                2     3     6        3\n"
     ]
    }
   ],
   "source": [
    "print(carsales.nsmallest(3,\"Tata\",keep=\"all\"))"
   ]
  },
  {
   "cell_type": "code",
   "execution_count": 11,
   "metadata": {},
   "outputs": [
    {
     "name": "stdout",
     "output_type": "stream",
     "text": [
      "Sales_place\n",
      "One      4.5\n",
      "Two      1.0\n",
      "Three    2.5\n",
      "Four     4.5\n",
      "Five     6.0\n",
      "Six      2.5\n",
      "Name: Mercedes, dtype: float64\n"
     ]
    }
   ],
   "source": [
    "print(carsales[\"Mercedes\"].rank(ascending=False))"
   ]
  },
  {
   "cell_type": "code",
   "execution_count": 12,
   "metadata": {},
   "outputs": [
    {
     "name": "stdout",
     "output_type": "stream",
     "text": [
      "             Mercedes  Ford  Tata  Renault\n",
      "Sales_place                               \n",
      "One               2.5   4.5   1.0      6.0\n",
      "Two               6.0   6.0   3.5      3.5\n",
      "Three             4.5   2.5   2.0      1.5\n",
      "Four              2.5   1.0   5.0      1.5\n",
      "Five              1.0   4.5   3.5      5.0\n",
      "Six               4.5   2.5   6.0      3.5\n"
     ]
    }
   ],
   "source": [
    "print(carsales.rank())"
   ]
  },
  {
   "cell_type": "code",
   "execution_count": 13,
   "metadata": {},
   "outputs": [
    {
     "name": "stdout",
     "output_type": "stream",
     "text": [
      "             Mercedes  Ford  Tata  Renault\n",
      "Sales_place                               \n",
      "One               3.5   3.5   2.0      1.0\n",
      "Two               1.5   3.0   1.5      4.0\n",
      "Three             1.5   3.0   1.5      4.0\n",
      "Four              2.0   3.0   1.0      4.0\n",
      "Five              4.0   2.5   1.0      2.5\n",
      "Six               2.0   3.0   1.0      4.0\n"
     ]
    }
   ],
   "source": [
    "print(carsales.rank(axis=1,ascending=False))"
   ]
  },
  {
   "cell_type": "code",
   "execution_count": null,
   "metadata": {},
   "outputs": [],
   "source": []
  }
 ],
 "metadata": {
  "kernelspec": {
   "display_name": "base",
   "language": "python",
   "name": "python3"
  },
  "language_info": {
   "codemirror_mode": {
    "name": "ipython",
    "version": 3
   },
   "file_extension": ".py",
   "mimetype": "text/x-python",
   "name": "python",
   "nbconvert_exporter": "python",
   "pygments_lexer": "ipython3",
   "version": "3.11.7"
  }
 },
 "nbformat": 4,
 "nbformat_minor": 2
}
