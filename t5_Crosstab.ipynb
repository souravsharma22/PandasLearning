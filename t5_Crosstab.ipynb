{
 "cells": [
  {
   "cell_type": "code",
   "execution_count": 32,
   "metadata": {},
   "outputs": [
    {
     "name": "stdout",
     "output_type": "stream",
     "text": [
      "             Mercedes  Ford  Tata  Renault\n",
      "Sales_place                               \n",
      "Saleplace1          3     3     4       12\n",
      "Saleplace2          6     4     6        1\n",
      "Saleplace3          5     2     5        0\n",
      "Saleplace4          3     1     7        0\n",
      "Saleplace5          2     3     6        3\n",
      "Saleplace6          5     2     8        1\n",
      "             Salesplace_Name  Mercedes  Ford  Tata  Renault\n",
      "Sales_place                                                \n",
      "Saleplace1          Europe 1         3     3     4       12\n",
      "Saleplace2       Austrelia 1         6     4     6        1\n",
      "Saleplace3            Asia 1         5     2     5        0\n",
      "Saleplace4             USA 1         3     1     7        0\n",
      "Saleplace5          Africa 1         2     3     6        3\n",
      "Saleplace6   South America 1         5     2     8        1\n"
     ]
    }
   ],
   "source": [
    "import pandas as pd\n",
    "cardata = {\"Mercedes\":[3,6,5,3,2,5],\"Ford\":[3,4,2,1,3,2],\"Tata\":[4,6,5,7,6,8],\"Renault\":[12,1,0,0,3,1]}\n",
    "carsales = pd.DataFrame(cardata)\n",
    "carsales.index.rename(\"Sales_place\",inplace=True)\n",
    "carsales.rename(index={0:\"Saleplace1\",1:\"Saleplace2\",2:\"Saleplace3\",3:\"Saleplace4\",4:\"Saleplace5\",5:\"Saleplace6\"},inplace=True)\n",
    "print(carsales)\n",
    "\n",
    "carsales.insert(0,\"Salesplace_Name\",[\"Europe 1\",\"Austrelia 1\",\"Asia 1\",\"USA 1\",\"Africa 1\",\"South America 1\"],allow_duplicates=True)\n",
    "print(carsales)"
   ]
  },
  {
   "cell_type": "code",
   "execution_count": 33,
   "metadata": {},
   "outputs": [
    {
     "name": "stdout",
     "output_type": "stream",
     "text": [
      "            Salesplace_Name  Mercedes  Ford  Tata  Renault\n",
      "Saleplace1         Europe 1         3     3     4       12\n",
      "Saleplace2      Austrelia 1         6     4     6        1\n",
      "Saleplace3           Asia 1         5     2     5        0\n",
      "Saleplace4            USA 1         3     1     7        0\n",
      "Saleplace5         Africa 1         2     3     6        3\n",
      "Saleplace6  South America 1         5     2     8        1\n",
      "Saleplace7            USA 1         2     3     5        3\n",
      "Saleplace8  South America 1         1     2     6        2\n",
      "Saleplace9            USA 1         0     2     1        0\n"
     ]
    }
   ],
   "source": [
    "newsalesplace2 = pd.DataFrame({\"Salesplace_Name\":\"USA 1\",\"Mercedes\":2,\"Ford\":3,\"Tata\":5,\"Renault\":3},index=[\"Saleplace7\"])\n",
    "newsalesplace3 = pd.DataFrame({\"Salesplace_Name\":\"South America 1\",\"Mercedes\":1,\"Ford\":2,\"Tata\":6,\"Renault\":2},index=[\"Saleplace8\"])\n",
    "newsalesplace4 = pd.DataFrame({\"Salesplace_Name\":\"USA 1\",\"Mercedes\":0,\"Ford\":2,\"Tata\":1,\"Renault\":0},index=[\"Saleplace9\"])\n",
    "carsales= pd.concat([carsales,newsalesplace2,newsalesplace3,newsalesplace4])\n",
    "print(carsales)"
   ]
  },
  {
   "cell_type": "code",
   "execution_count": 34,
   "metadata": {},
   "outputs": [
    {
     "name": "stdout",
     "output_type": "stream",
     "text": [
      "Ford             1  2  3  4\n",
      "Salesplace_Name            \n",
      "Africa 1         0  0  1  0\n",
      "Asia 1           0  1  0  0\n",
      "Austrelia 1      0  0  0  1\n",
      "Europe 1         0  0  1  0\n",
      "South America 1  0  2  0  0\n",
      "USA 1            1  1  1  0\n"
     ]
    }
   ],
   "source": [
    "def sales_rating(n_sold):\n",
    "    if(n_sold>=17):\n",
    "        return \"Excellent\"\n",
    "    elif n_sold>10:\n",
    "        return \"Good\"\n",
    "    elif n_sold>5:\n",
    "        return \"Acceptable\"\n",
    "    else:\n",
    "        return \"Bad\"\n",
    "print(pd.crosstab(carsales[\"Salesplace_Name\"],carsales[\"Ford\"]))"
   ]
  },
  {
   "cell_type": "code",
   "execution_count": 35,
   "metadata": {},
   "outputs": [
    {
     "name": "stdout",
     "output_type": "stream",
     "text": [
      "Ford      1  2  3  4\n",
      "Mercedes            \n",
      "0         0  1  0  0\n",
      "1         0  1  0  0\n",
      "2         0  0  2  0\n",
      "3         1  0  1  0\n",
      "5         0  2  0  0\n",
      "6         0  0  0  1\n"
     ]
    }
   ],
   "source": [
    "print(pd.crosstab(carsales['Mercedes'], carsales['Ford']))"
   ]
  },
  {
   "cell_type": "code",
   "execution_count": 36,
   "metadata": {},
   "outputs": [
    {
     "name": "stdout",
     "output_type": "stream",
     "text": [
      "Ford                    1         2         3         4\n",
      "Salesplace_Name                                        \n",
      "Africa 1         0.000000  0.000000  0.111111  0.000000\n",
      "Asia 1           0.000000  0.111111  0.000000  0.000000\n",
      "Austrelia 1      0.000000  0.000000  0.000000  0.111111\n",
      "Europe 1         0.000000  0.000000  0.111111  0.000000\n",
      "South America 1  0.000000  0.222222  0.000000  0.000000\n",
      "USA 1            0.111111  0.111111  0.111111  0.000000\n"
     ]
    }
   ],
   "source": [
    "print(pd.crosstab(carsales[\"Salesplace_Name\"],carsales[\"Ford\"],normalize=True))"
   ]
  },
  {
   "cell_type": "code",
   "execution_count": 37,
   "metadata": {},
   "outputs": [
    {
     "name": "stdout",
     "output_type": "stream",
     "text": [
      "Ford    1     2         3    4\n",
      "Tata                          \n",
      "1     0.0  0.25  0.000000  0.0\n",
      "4     0.0  0.00  0.333333  0.0\n",
      "5     0.0  0.25  0.333333  0.0\n",
      "6     0.0  0.25  0.333333  1.0\n",
      "7     1.0  0.00  0.000000  0.0\n",
      "8     0.0  0.25  0.000000  0.0\n"
     ]
    }
   ],
   "source": [
    "print(pd.crosstab(carsales[\"Tata\"],carsales[\"Ford\"],normalize=\"columns\"))"
   ]
  },
  {
   "cell_type": "code",
   "execution_count": 38,
   "metadata": {},
   "outputs": [
    {
     "name": "stdout",
     "output_type": "stream",
     "text": [
      "                 Mercedes  Ford      Tata  Renault\n",
      "Salesplace_Name                                   \n",
      "Africa 1         2.000000   3.0  6.000000      3.0\n",
      "Asia 1           5.000000   2.0  5.000000      0.0\n",
      "Austrelia 1      6.000000   4.0  6.000000      1.0\n",
      "Europe 1         3.000000   3.0  4.000000     12.0\n",
      "South America 1  3.000000   2.0  7.000000      1.5\n",
      "USA 1            1.666667   2.0  4.333333      1.0\n"
     ]
    }
   ],
   "source": [
    "print(carsales.groupby([\"Salesplace_Name\"]).mean())"
   ]
  },
  {
   "cell_type": "code",
   "execution_count": 39,
   "metadata": {},
   "outputs": [
    {
     "name": "stdout",
     "output_type": "stream",
     "text": [
      "                 Mercedes  Ford  Tata  Renault\n",
      "Salesplace_Name                               \n",
      "Africa 1                2     3     6        3\n",
      "Asia 1                  5     2     5        0\n",
      "Austrelia 1             6     4     6        1\n",
      "Europe 1                3     3     4       12\n",
      "South America 1         6     4    14        3\n",
      "USA 1                   5     6    13        3\n"
     ]
    }
   ],
   "source": [
    "print(carsales.groupby([\"Salesplace_Name\"]).sum())"
   ]
  },
  {
   "cell_type": "code",
   "execution_count": 40,
   "metadata": {},
   "outputs": [
    {
     "name": "stdout",
     "output_type": "stream",
     "text": [
      "                            Salesplace_Name  Mercedes  Ford  Tata  Renault\n",
      "Salesplace_Name                                                           \n",
      "Africa 1        Saleplace5         Africa 1         2     3     6        3\n",
      "Asia 1          Saleplace3           Asia 1         5     2     5        0\n",
      "Austrelia 1     Saleplace2      Austrelia 1         6     4     6        1\n",
      "Europe 1        Saleplace1         Europe 1         3     3     4       12\n",
      "South America 1 Saleplace6  South America 1         5     2     8        1\n",
      "                Saleplace8  South America 1         1     2     6        2\n",
      "USA 1           Saleplace4            USA 1         3     1     7        0\n",
      "                Saleplace7            USA 1         2     3     5        3\n",
      "                Saleplace9            USA 1         0     2     1        0\n"
     ]
    }
   ],
   "source": [
    "print(carsales.groupby(\"Salesplace_Name\",group_keys=True).apply(lambda x:x))"
   ]
  },
  {
   "cell_type": "code",
   "execution_count": 41,
   "metadata": {},
   "outputs": [
    {
     "name": "stdout",
     "output_type": "stream",
     "text": [
      "            Salesplace_Name  Mercedes  Ford  Tata  Renault  Total_sales\n",
      "Saleplace1         Europe 1         3     3     4       12           22\n",
      "Saleplace2      Austrelia 1         6     4     6        1           17\n",
      "Saleplace3           Asia 1         5     2     5        0           12\n",
      "Saleplace4            USA 1         3     1     7        0           11\n",
      "Saleplace5         Africa 1         2     3     6        3           14\n",
      "Saleplace6  South America 1         5     2     8        1           16\n",
      "Saleplace7            USA 1         2     3     5        3           13\n",
      "Saleplace8  South America 1         1     2     6        2           11\n",
      "Saleplace9            USA 1         0     2     1        0            3\n"
     ]
    }
   ],
   "source": [
    "carsales[\"Total_sales\"]= carsales[[\"Mercedes\",\"Ford\",\"Tata\",\"Renault\"]].sum(axis=1)\n",
    "print(carsales)"
   ]
  },
  {
   "cell_type": "code",
   "execution_count": 42,
   "metadata": {},
   "outputs": [],
   "source": [
    "#Now we will apply sales_rating function on total_sales column ann \n",
    "# crearte a new column for the rating to salesmplaces\n",
    "carsales[\"Salesplace_Rating\"]= carsales['Total_sales'].apply(sales_rating)"
   ]
  },
  {
   "cell_type": "code",
   "execution_count": 43,
   "metadata": {},
   "outputs": [
    {
     "name": "stdout",
     "output_type": "stream",
     "text": [
      "            Salesplace_Name  Mercedes  Ford  Tata  Renault  Total_sales  \\\n",
      "Saleplace1         Europe 1         3     3     4       12           22   \n",
      "Saleplace2      Austrelia 1         6     4     6        1           17   \n",
      "Saleplace3           Asia 1         5     2     5        0           12   \n",
      "Saleplace4            USA 1         3     1     7        0           11   \n",
      "Saleplace5         Africa 1         2     3     6        3           14   \n",
      "Saleplace6  South America 1         5     2     8        1           16   \n",
      "Saleplace7            USA 1         2     3     5        3           13   \n",
      "Saleplace8  South America 1         1     2     6        2           11   \n",
      "Saleplace9            USA 1         0     2     1        0            3   \n",
      "\n",
      "           Salesplace_Rating  \n",
      "Saleplace1         Excellent  \n",
      "Saleplace2         Excellent  \n",
      "Saleplace3              Good  \n",
      "Saleplace4              Good  \n",
      "Saleplace5              Good  \n",
      "Saleplace6              Good  \n",
      "Saleplace7              Good  \n",
      "Saleplace8              Good  \n",
      "Saleplace9               Bad  \n"
     ]
    }
   ],
   "source": [
    "print(carsales)"
   ]
  },
  {
   "cell_type": "code",
   "execution_count": 44,
   "metadata": {},
   "outputs": [],
   "source": [
    "#Now we can make cross table to compare salesplace based on their ratings"
   ]
  },
  {
   "cell_type": "code",
   "execution_count": 45,
   "metadata": {},
   "outputs": [
    {
     "name": "stdout",
     "output_type": "stream",
     "text": [
      "Salesplace_Rating  Bad  Excellent  Good\n",
      "Salesplace_Name                        \n",
      "Africa 1             0          0     1\n",
      "Asia 1               0          0     1\n",
      "Austrelia 1          0          1     0\n",
      "Europe 1             0          1     0\n",
      "South America 1      0          0     2\n",
      "USA 1                1          0     2\n"
     ]
    }
   ],
   "source": [
    "print(pd.crosstab(carsales[\"Salesplace_Name\"],carsales[\"Salesplace_Rating\"]))"
   ]
  },
  {
   "cell_type": "code",
   "execution_count": 46,
   "metadata": {},
   "outputs": [
    {
     "name": "stdout",
     "output_type": "stream",
     "text": [
      "Salesplace_Name    Africa 1  Asia 1  Austrelia 1  Europe 1  South America 1  \\\n",
      "Salesplace_Rating                                                             \n",
      "Bad                       0       0            0         0                0   \n",
      "Excellent                 0       0            1         1                0   \n",
      "Good                      1       1            0         0                2   \n",
      "\n",
      "Salesplace_Name    USA 1  \n",
      "Salesplace_Rating         \n",
      "Bad                    1  \n",
      "Excellent              0  \n",
      "Good                   2  \n"
     ]
    }
   ],
   "source": [
    "print(pd.crosstab(carsales[\"Salesplace_Rating\"],carsales[\"Salesplace_Name\"]))"
   ]
  },
  {
   "cell_type": "code",
   "execution_count": 47,
   "metadata": {},
   "outputs": [
    {
     "name": "stdout",
     "output_type": "stream",
     "text": [
      "                              Salesplace_Name  Mercedes  Ford  Tata  Renault  \\\n",
      "Salesplace_Rating                                                              \n",
      "Bad               Saleplace9            USA 1         0     2     1        0   \n",
      "Excellent         Saleplace1         Europe 1         3     3     4       12   \n",
      "                  Saleplace2      Austrelia 1         6     4     6        1   \n",
      "Good              Saleplace3           Asia 1         5     2     5        0   \n",
      "                  Saleplace4            USA 1         3     1     7        0   \n",
      "                  Saleplace5         Africa 1         2     3     6        3   \n",
      "                  Saleplace6  South America 1         5     2     8        1   \n",
      "                  Saleplace7            USA 1         2     3     5        3   \n",
      "                  Saleplace8  South America 1         1     2     6        2   \n",
      "\n",
      "                              Total_sales Salesplace_Rating  \n",
      "Salesplace_Rating                                            \n",
      "Bad               Saleplace9            3               Bad  \n",
      "Excellent         Saleplace1           22         Excellent  \n",
      "                  Saleplace2           17         Excellent  \n",
      "Good              Saleplace3           12              Good  \n",
      "                  Saleplace4           11              Good  \n",
      "                  Saleplace5           14              Good  \n",
      "                  Saleplace6           16              Good  \n",
      "                  Saleplace7           13              Good  \n",
      "                  Saleplace8           11              Good  \n"
     ]
    }
   ],
   "source": [
    "print(carsales.groupby(\"Salesplace_Rating\",group_keys=True).apply(lambda x:x))"
   ]
  },
  {
   "cell_type": "code",
   "execution_count": null,
   "metadata": {},
   "outputs": [],
   "source": []
  }
 ],
 "metadata": {
  "kernelspec": {
   "display_name": "base",
   "language": "python",
   "name": "python3"
  },
  "language_info": {
   "codemirror_mode": {
    "name": "ipython",
    "version": 3
   },
   "file_extension": ".py",
   "mimetype": "text/x-python",
   "name": "python",
   "nbconvert_exporter": "python",
   "pygments_lexer": "ipython3",
   "version": "3.11.7"
  }
 },
 "nbformat": 4,
 "nbformat_minor": 2
}
